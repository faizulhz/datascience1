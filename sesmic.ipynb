{
  "nbformat": 4,
  "nbformat_minor": 0,
  "metadata": {
    "colab": {
      "name": "sesmic.ipynb",
      "provenance": [],
      "authorship_tag": "ABX9TyOaXtVHBPhP6SzN7Wp0mwZY",
      "include_colab_link": true
    },
    "kernelspec": {
      "name": "python3",
      "display_name": "Python 3"
    },
    "language_info": {
      "name": "python"
    }
  },
  "cells": [
    {
      "cell_type": "markdown",
      "metadata": {
        "id": "view-in-github",
        "colab_type": "text"
      },
      "source": [
        "<a href=\"https://colab.research.google.com/github/faizulhz/datascience1/blob/master/sesmic.ipynb\" target=\"_parent\"><img src=\"https://colab.research.google.com/assets/colab-badge.svg\" alt=\"Open In Colab\"/></a>"
      ]
    },
    {
      "cell_type": "code",
      "execution_count": 50,
      "metadata": {
        "colab": {
          "base_uri": "https://localhost:8080/"
        },
        "id": "repyEhkgj1x8",
        "outputId": "150db1ca-b581-4ffa-82c3-9e252741ec58"
      },
      "outputs": [
        {
          "output_type": "stream",
          "name": "stdout",
          "text": [
            "     0  1  2      3    4    5    6  7   ...  11  12  13  14  15    16    17  18\n",
            "0     a  a  N  15180   48  -72  -72  a  ...   0   0   0   0   0     0     0   0\n",
            "1     a  a  N  14720   33  -70  -79  a  ...   0   0   0   0   0  2000  2000   0\n",
            "2     a  a  N   8050   30  -81  -78  a  ...   0   0   0   0   0     0     0   0\n",
            "3     a  a  N  28820  171  -23   40  a  ...   0   0   0   0   0  3000  3000   0\n",
            "4     a  a  N  12640   57  -63  -52  a  ...   0   0   0   0   0     0     0   0\n",
            "...  .. .. ..    ...  ...  ...  ... ..  ...  ..  ..  ..  ..  ..   ...   ...  ..\n",
            "2579  b  a  W  81410  785  432  151  b  ...   0   0   0   0   0     0     0   0\n",
            "2580  b  a  W  42110  555  213  118  a  ...   0   0   0   0   0     0     0   0\n",
            "2581  b  a  W  26960  540  101  112  a  ...   0   0   0   0   0     0     0   0\n",
            "2582  a  a  W  16130  322    2    2  a  ...   0   0   0   0   0     0     0   0\n",
            "2583  a  a  W  12750  235  -10  -10  a  ...   0   0   0   0   0     0     0   0\n",
            "\n",
            "[2584 rows x 19 columns]\n",
            "      0   1   2         3    4   5   6   7   ...  10  11  12  13  14  15    16    17\n",
            "1218   1   0   1  0.174751  549 -26 -12   0  ...   0   0   0   0   0   0     0     0\n",
            "2485   0   0   1  0.090423  148 -51 -57   0  ...   0   0   0   0   0   0   300   300\n",
            "773    0   0   0  0.041776   50 -47 -40   0  ...   0   0   0   0   0   0     0     0\n",
            "2532   1   0   0  0.028590  115 -77 -49   0  ...   0   0   0   0   0   0     0     0\n",
            "763    0   1   1  0.474721  248  24   5   0  ...   3   0   0   0   0   0  4000  2000\n",
            "\n",
            "[5 rows x 18 columns]\n",
            "(1292,)\n",
            "(1292,)\n",
            "[[1168   39]\n",
            " [  83    2]]\n",
            "[1168   39   83    2]\n",
            "0.9055727554179567\n"
          ]
        },
        {
          "output_type": "stream",
          "name": "stderr",
          "text": [
            "/usr/local/lib/python3.7/dist-packages/sklearn/linear_model/_logistic.py:818: ConvergenceWarning: lbfgs failed to converge (status=1):\n",
            "STOP: TOTAL NO. of ITERATIONS REACHED LIMIT.\n",
            "\n",
            "Increase the number of iterations (max_iter) or scale the data as shown in:\n",
            "    https://scikit-learn.org/stable/modules/preprocessing.html\n",
            "Please also refer to the documentation for alternative solver options:\n",
            "    https://scikit-learn.org/stable/modules/linear_model.html#logistic-regression\n",
            "  extra_warning_msg=_LOGISTIC_SOLVER_CONVERGENCE_MSG,\n"
          ]
        },
        {
          "output_type": "stream",
          "name": "stdout",
          "text": [
            "[[1207    0]\n",
            " [  85    0]]\n",
            "[[1168   39]\n",
            " [  83    2]]\n"
          ]
        },
        {
          "output_type": "stream",
          "name": "stderr",
          "text": [
            "/usr/local/lib/python3.7/dist-packages/sklearn/linear_model/_logistic.py:818: ConvergenceWarning: lbfgs failed to converge (status=1):\n",
            "STOP: TOTAL NO. of ITERATIONS REACHED LIMIT.\n",
            "\n",
            "Increase the number of iterations (max_iter) or scale the data as shown in:\n",
            "    https://scikit-learn.org/stable/modules/preprocessing.html\n",
            "Please also refer to the documentation for alternative solver options:\n",
            "    https://scikit-learn.org/stable/modules/linear_model.html#logistic-regression\n",
            "  extra_warning_msg=_LOGISTIC_SOLVER_CONVERGENCE_MSG,\n"
          ]
        }
      ],
      "source": [
        "import pandas as pd\n",
        "a=pd.read_csv(\"sb.csv\",header=None)\n",
        "a.head()\n",
        "a.columns\n",
        "X= a.drop(columns=18)\n",
        "Y= a[18]\n",
        "Y.head()\n",
        "from sklearn import preprocessing\n",
        "le = preprocessing.LabelEncoder()\n",
        "le.fit(X[0])\n",
        "X[0]=le.transform(X[0])\n",
        "#print(X.head())\n",
        "le1 = preprocessing.LabelEncoder()\n",
        "le1.fit(X[1])\n",
        "X[1]=le1.transform(X[1])\n",
        "le2 = preprocessing.LabelEncoder()\n",
        "le2.fit(X[2])\n",
        "X[2]=le2.transform(X[2])\n",
        "le7 = preprocessing.LabelEncoder()\n",
        "le7.fit(X[7])\n",
        "X[7]=le7.transform(X[7])\n",
        "#print(X.head())\n",
        "X[3]=X[3]/X[3].mean()\n",
        "print(a)\n",
        "from sklearn.model_selection import train_test_split\n",
        "X_train, X_test, y_train, y_test = train_test_split(\n",
        "X, Y, test_size=0.5)\n",
        "from sklearn.linear_model import LogisticRegression\n",
        "print(X_train.head())\n",
        "clf = LogisticRegression(random_state=0).fit(X_train, y_train)\n",
        "y_predict=clf.predict(X_test)\n",
        "print(y_predict.shape)\n",
        "print(y_test.shape)\n",
        "\n",
        "score=clf.score(X_test,y_test)\n",
        "from sklearn.metrics import confusion_matrix\n",
        "print(confusion_matrix(y_test, y_predict))\n",
        "print(confusion_matrix(y_test, y_predict).ravel())\n",
        "print(score)\n",
        "\n",
        "from sklearn.ensemble import RandomForestClassifier\n",
        "\n",
        "\n",
        "clf1 = RandomForestClassifier(max_depth=2)\n",
        "clf1.fit(X_train, y_train)\n",
        "yprf=clf1.predict(X_train)\n",
        "print(confusion_matrix(y_train, yprf))\n",
        "from sklearn.linear_model import LogisticRegression\n",
        "clf3 = LogisticRegression(random_state=0).fit(X_train, y_train)\n",
        "ylr=clf3.predict(X_test)\n",
        "print(confusion_matrix(y_test, ylr))"
      ]
    }
  ]
}