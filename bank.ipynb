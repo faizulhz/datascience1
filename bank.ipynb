{
  "nbformat": 4,
  "nbformat_minor": 0,
  "metadata": {
    "colab": {
      "name": "bank.ipynb",
      "provenance": [],
      "authorship_tag": "ABX9TyMiCLiuGk39s5RI2NclcjWw",
      "include_colab_link": true
    },
    "kernelspec": {
      "name": "python3",
      "display_name": "Python 3"
    },
    "language_info": {
      "name": "python"
    }
  },
  "cells": [
    {
      "cell_type": "markdown",
      "metadata": {
        "id": "view-in-github",
        "colab_type": "text"
      },
      "source": [
        "<a href=\"https://colab.research.google.com/github/faizulhz/datascience1/blob/master/bank.ipynb\" target=\"_parent\"><img src=\"https://colab.research.google.com/assets/colab-badge.svg\" alt=\"Open In Colab\"/></a>"
      ]
    },
    {
      "cell_type": "markdown",
      "source": [
        "#DECISION TREE AND LOGISTIC REGRESSION ON BANKRUPTCY DATA SET<br>\n",
        "#AUTHOR: FAIZ UL HAQUE ZEYA<br>\n",
        "#EMAIL: faizulhaquezeya@gmail.com"
      ],
      "metadata": {
        "id": "w7KEJfBnoJvs"
      }
    },
    {
      "cell_type": "code",
      "execution_count": 21,
      "metadata": {
        "id": "5bJHwd8jTZYA"
      },
      "outputs": [],
      "source": [
        "import pandas as pd\n",
        "df=pd.read_csv('data.csv')\n",
        "X=df.drop(\"Bankrupt?\",axis=1)\n",
        "Y=df[\"Bankrupt?\"]\n"
      ]
    },
    {
      "cell_type": "code",
      "source": [
        "from sklearn.model_selection import train_test_split\n",
        "xtrain,xtest,ytrain,ytest = train_test_split(X,Y,train_size=0.8)\n"
      ],
      "metadata": {
        "id": "58iARwehnNPf"
      },
      "execution_count": 22,
      "outputs": []
    },
    {
      "cell_type": "markdown",
      "source": [
        "#LOGISTIC REGRESSION"
      ],
      "metadata": {
        "id": "cFlaDoNUnbDV"
      }
    },
    {
      "cell_type": "code",
      "source": [
        "from sklearn.linear_model import LogisticRegression\n",
        "lmodel = LogisticRegression()\n",
        "lmodel.fit(xtrain,ytrain)\n",
        "ytrain_pred = lmodel.predict(xtrain)\n",
        "ytest_pred = lmodel.predict(xtest)\n",
        "print(lmodel.score(xtest,ytest))\n",
        "from sklearn.metrics import confusion_matrix\n",
        "print(confusion_matrix(ytrain, ytrain_pred))\n",
        "\n"
      ],
      "metadata": {
        "colab": {
          "base_uri": "https://localhost:8080/"
        },
        "id": "npAhu_nMnSW1",
        "outputId": "961e7648-0a1d-4239-9472-6a317446d8b7"
      },
      "execution_count": 23,
      "outputs": [
        {
          "output_type": "stream",
          "name": "stdout",
          "text": [
            "0.967741935483871\n",
            "[[5275    3]\n",
            " [ 173    4]]\n"
          ]
        },
        {
          "output_type": "stream",
          "name": "stderr",
          "text": [
            "/usr/local/lib/python3.7/dist-packages/sklearn/linear_model/_logistic.py:818: ConvergenceWarning: lbfgs failed to converge (status=1):\n",
            "STOP: TOTAL NO. of ITERATIONS REACHED LIMIT.\n",
            "\n",
            "Increase the number of iterations (max_iter) or scale the data as shown in:\n",
            "    https://scikit-learn.org/stable/modules/preprocessing.html\n",
            "Please also refer to the documentation for alternative solver options:\n",
            "    https://scikit-learn.org/stable/modules/linear_model.html#logistic-regression\n",
            "  extra_warning_msg=_LOGISTIC_SOLVER_CONVERGENCE_MSG,\n"
          ]
        }
      ]
    },
    {
      "cell_type": "markdown",
      "source": [
        "#DECISION TREE"
      ],
      "metadata": {
        "id": "vjOaY2aDnYP9"
      }
    },
    {
      "cell_type": "code",
      "source": [
        "from sklearn.tree import DecisionTreeClassifier\n",
        "clf = DecisionTreeClassifier(random_state=0)\n",
        "clf.fit(xtrain,ytrain)\n",
        "ypd=clf.predict(xtest)\n",
        "print(clf.score(xtest,ytest))\n",
        "print(confusion_matrix(ytest, ypd))"
      ],
      "metadata": {
        "colab": {
          "base_uri": "https://localhost:8080/"
        },
        "id": "TWnTQfXDnYu9",
        "outputId": "ebbaa4a6-88e5-4aaf-910d-de65c377fbab"
      },
      "execution_count": 24,
      "outputs": [
        {
          "output_type": "stream",
          "name": "stdout",
          "text": [
            "0.9560117302052786\n",
            "[[1288   33]\n",
            " [  27   16]]\n"
          ]
        }
      ]
    }
  ]
}